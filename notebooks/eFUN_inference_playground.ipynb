{
  "nbformat": 4,
  "nbformat_minor": 0,
  "metadata": {
    "colab": {
      "name": "eFUN_inference_playground.ipynb",
      "provenance": [],
      "collapsed_sections": []
    },
    "kernelspec": {
      "name": "python3",
      "display_name": "Python 3"
    },
    "accelerator": "GPU"
  },
  "cells": [
    {
      "cell_type": "markdown",
      "metadata": {
        "id": "KqipmQpsTv2c"
      },
      "source": [
        "#Choosing Model"
      ]
    },
    {
      "cell_type": "code",
      "metadata": {
        "id": "XGiUNkDDUYBP"
      },
      "source": [
        "model_name = 'eFUN'\n",
        "# model_name = 'eFUN-L'\n",
        "# model_name = 'eFUN-S'\n",
        "# model_name = 'eFUN-S+'"
      ],
      "execution_count": 1,
      "outputs": []
    },
    {
      "cell_type": "markdown",
      "metadata": {
        "id": "88ZdHpH1UVMm"
      },
      "source": [
        "# Setting Up Environment And Paths"
      ]
    },
    {
      "cell_type": "code",
      "metadata": {
        "id": "eaYmSBMgT5ca",
        "outputId": "c1477394-ddac-4a51-848e-c6cf9ee19e21",
        "colab": {
          "base_uri": "https://localhost:8080/",
          "height": 34
        }
      },
      "source": [
        "import os\n",
        "os.chdir('/content')\n",
        "code_dir = 'FUN'\n",
        "checkpoint_path = f'/content/model.pth.tar'\n",
        "data_path = f'/content/FUN/notebooks/example_data'\n",
        "os.environ['CHECKPOINT_PATH'] = checkpoint_path\n",
        "!export | grep \"CHECKPOINT_PATH\""
      ],
      "execution_count": 2,
      "outputs": [
        {
          "output_type": "stream",
          "text": [
            "declare -x CHECKPOINT_PATH=\"/content/model.pth.tar\"\n"
          ],
          "name": "stdout"
        }
      ]
    },
    {
      "cell_type": "markdown",
      "metadata": {
        "id": "UKahYgp0T871"
      },
      "source": [
        "# Getting Code and Installing Requirements"
      ]
    },
    {
      "cell_type": "code",
      "metadata": {
        "id": "0EUi2xUUdjE3",
        "outputId": "529b78d4-d429-4938-e6fc-c88278db7d01",
        "colab": {
          "base_uri": "https://localhost:8080/",
          "height": 323
        }
      },
      "source": [
        "!git clone https://github.com/kfir99/FUN.git $CODE_DIR\n",
        "os.chdir(f'./{code_dir}')\n",
        "!pip install jpeg2dct"
      ],
      "execution_count": 3,
      "outputs": [
        {
          "output_type": "stream",
          "text": [
            "Cloning into 'FUN'...\n",
            "remote: Enumerating objects: 235, done.\u001b[K\n",
            "remote: Counting objects: 100% (235/235), done.\u001b[K\n",
            "remote: Compressing objects: 100% (198/198), done.\u001b[K\n",
            "remote: Total 235 (delta 37), reused 221 (delta 27), pack-reused 0\u001b[K\n",
            "Receiving objects: 100% (235/235), 13.85 MiB | 32.82 MiB/s, done.\n",
            "Resolving deltas: 100% (37/37), done.\n",
            "Collecting jpeg2dct\n",
            "\u001b[?25l  Downloading https://files.pythonhosted.org/packages/aa/13/59e7fe24432683922c193a47f74b841e178a00f3790b650cb2662fed0a59/jpeg2dct-0.2.4.tar.gz (106kB)\n",
            "\u001b[K     |████████████████████████████████| 112kB 2.8MB/s \n",
            "\u001b[?25hRequirement already satisfied: numpy in /usr/local/lib/python3.6/dist-packages (from jpeg2dct) (1.18.5)\n",
            "Building wheels for collected packages: jpeg2dct\n",
            "  Building wheel for jpeg2dct (setup.py) ... \u001b[?25l\u001b[?25hdone\n",
            "  Created wheel for jpeg2dct: filename=jpeg2dct-0.2.4-cp36-cp36m-linux_x86_64.whl size=104583 sha256=58507d19d12a46668cedc81d84c1e15257f571073c8b59d50e36b4c42a089e47\n",
            "  Stored in directory: /root/.cache/pip/wheels/83/1f/ea/f4a5a93d63af5e4e850466204ab77dab5805a4a950bcd24445\n",
            "Successfully built jpeg2dct\n",
            "Installing collected packages: jpeg2dct\n",
            "Successfully installed jpeg2dct-0.2.4\n"
          ],
          "name": "stdout"
        }
      ]
    },
    {
      "cell_type": "markdown",
      "metadata": {
        "id": "CUx0ftBTUl_k"
      },
      "source": [
        "# Getting Checkpoint"
      ]
    },
    {
      "cell_type": "code",
      "metadata": {
        "id": "NZKkX8E9IFOs",
        "outputId": "be129ee6-8bcc-4eb1-ea67-da51ce55715c",
        "colab": {
          "base_uri": "https://localhost:8080/",
          "height": 34
        }
      },
      "source": [
        "model_dict = {\n",
        "    'eFUN': ('efun', 'https://drive.google.com/uc?id=17GRexna2lMaqELTK-PYgIlwEUk9Hponp'),\n",
        "    'eFUN-L': ('efun_l', 'https://drive.google.com/uc?id=1sUs0cDZr9cgMQEsXx2xDDqI0AUMG9oK_'),\n",
        "    'eFUN-S': ('efun_s', 'https://drive.google.com/uc?id=1Vx1rXQ43C3ofWAMhJHtjI8-qDgveEJw3'),\n",
        "    'eFUN-S+': ('efun_s_plus', 'https://drive.google.com/uc?id=1m2tkGOAjDuRu9Xj9OAT9E78rTMo6e7w1')\n",
        "}\n",
        "model_string, model_url = model_dict[model_name]\n",
        "os.environ['MODEL_URL'] = model_url\n",
        "!export | grep MODEL_URL"
      ],
      "execution_count": 4,
      "outputs": [
        {
          "output_type": "stream",
          "text": [
            "declare -x MODEL_URL=\"https://drive.google.com/uc?id=17GRexna2lMaqELTK-PYgIlwEUk9Hponp\"\n"
          ],
          "name": "stdout"
        }
      ]
    },
    {
      "cell_type": "code",
      "metadata": {
        "id": "Omb7t_bCDXf-",
        "outputId": "07a7d5f8-f537-462b-f6fa-9241b85e30b6",
        "colab": {
          "base_uri": "https://localhost:8080/",
          "height": 306
        }
      },
      "source": [
        " !wget -O $CHECKPOINT_PATH $MODEL_URL"
      ],
      "execution_count": 5,
      "outputs": [
        {
          "output_type": "stream",
          "text": [
            "--2020-10-23 11:59:54--  https://drive.google.com/uc?id=17GRexna2lMaqELTK-PYgIlwEUk9Hponp\n",
            "Resolving drive.google.com (drive.google.com)... 173.194.210.101, 173.194.210.100, 173.194.210.102, ...\n",
            "Connecting to drive.google.com (drive.google.com)|173.194.210.101|:443... connected.\n",
            "HTTP request sent, awaiting response... 302 Moved Temporarily\n",
            "Location: https://doc-00-38-docs.googleusercontent.com/docs/securesc/ha0ro937gcuc7l7deffksulhg5h7mbp1/q88q7u6u7tj4qs8npcju62d0rafbu8gb/1603454325000/15576367283503380841/*/17GRexna2lMaqELTK-PYgIlwEUk9Hponp [following]\n",
            "Warning: wildcards not supported in HTTP.\n",
            "--2020-10-23 11:59:57--  https://doc-00-38-docs.googleusercontent.com/docs/securesc/ha0ro937gcuc7l7deffksulhg5h7mbp1/q88q7u6u7tj4qs8npcju62d0rafbu8gb/1603454325000/15576367283503380841/*/17GRexna2lMaqELTK-PYgIlwEUk9Hponp\n",
            "Resolving doc-00-38-docs.googleusercontent.com (doc-00-38-docs.googleusercontent.com)... 173.194.213.132, 2607:f8b0:400c:c0a::84\n",
            "Connecting to doc-00-38-docs.googleusercontent.com (doc-00-38-docs.googleusercontent.com)|173.194.213.132|:443... connected.\n",
            "HTTP request sent, awaiting response... 200 OK\n",
            "Length: unspecified [application/x-tar]\n",
            "Saving to: ‘/content/model.pth.tar’\n",
            "\n",
            "/content/model.pth.     [    <=>             ]  64.97M  98.4MB/s    in 0.7s    \n",
            "\n",
            "2020-10-23 11:59:58 (98.4 MB/s) - ‘/content/model.pth.tar’ saved [68121630]\n",
            "\n"
          ],
          "name": "stdout"
        }
      ]
    },
    {
      "cell_type": "markdown",
      "metadata": {
        "id": "gbV6mbyzUqS1"
      },
      "source": [
        "#Creating Model"
      ]
    },
    {
      "cell_type": "code",
      "metadata": {
        "id": "xBuzXJEDgwld"
      },
      "source": [
        "import timm\n",
        "from timm.data import *\n",
        "from timm.utils import *\n",
        "from timm.models import load_checkpoint\n",
        "from timm.data import Dataset\n",
        "import torch.nn as nn"
      ],
      "execution_count": 6,
      "outputs": []
    },
    {
      "cell_type": "code",
      "metadata": {
        "id": "hQbfSV4dejRi"
      },
      "source": [
        "model = timm.create_model(\n",
        "      model_string,\n",
        "      num_classes=1000,\n",
        "      in_chans=3)\n",
        "load_checkpoint(model=model, checkpoint_path=checkpoint_path, strict=False)\n",
        "model = model.cuda()"
      ],
      "execution_count": 7,
      "outputs": []
    },
    {
      "cell_type": "markdown",
      "metadata": {
        "id": "dP8C6RvGUvT0"
      },
      "source": [
        "#Loading Data"
      ]
    },
    {
      "cell_type": "code",
      "metadata": {
        "id": "1P9qxdZIh44F"
      },
      "source": [
        "dataset = Dataset(data_path)\n",
        "data_config = timm.data.resolve_data_config({}, model=model, verbose=True)"
      ],
      "execution_count": 8,
      "outputs": []
    },
    {
      "cell_type": "code",
      "metadata": {
        "id": "7MKfFxPmgrCZ"
      },
      "source": [
        "loader = create_loader(\n",
        "    dataset,\n",
        "    input_size=(3, 224, 224),\n",
        "    batch_size=1,\n",
        "    use_prefetcher=False,\n",
        "    interpolation=data_config['interpolation'],\n",
        "    mean=data_config['mean'],\n",
        "    std=data_config['std'],\n",
        "    num_workers=1,\n",
        "    crop_pct=1.0,\n",
        "    dct=True,\n",
        "    pin_memory=False,\n",
        "    tf_preprocessing=False)"
      ],
      "execution_count": 9,
      "outputs": []
    },
    {
      "cell_type": "markdown",
      "metadata": {
        "id": "GztOa5BiU0RJ"
      },
      "source": [
        "#Basic Inference Loop"
      ]
    },
    {
      "cell_type": "code",
      "metadata": {
        "id": "Z55-QCz7h01E"
      },
      "source": [
        "criterion = nn.CrossEntropyLoss().cuda()"
      ],
      "execution_count": 10,
      "outputs": []
    },
    {
      "cell_type": "code",
      "metadata": {
        "id": "SyKRIHg1B4_0"
      },
      "source": [
        "with torch.no_grad():\n",
        "  for batch_idx, (input, target) in enumerate(loader):\n",
        "      target = target.cuda()\n",
        "      input = input.cuda()\n",
        "\n",
        "      # compute output\n",
        "      output = model(input)\n",
        "\n",
        "      loss = criterion(output, target)"
      ],
      "execution_count": 11,
      "outputs": []
    },
    {
      "cell_type": "code",
      "metadata": {
        "id": "1Ui9Po6IVSvJ"
      },
      "source": [
        ""
      ],
      "execution_count": null,
      "outputs": []
    }
  ]
}